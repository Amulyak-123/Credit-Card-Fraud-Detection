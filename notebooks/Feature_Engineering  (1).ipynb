{
 "cells": [
  {
   "cell_type": "code",
   "execution_count": 1,
   "id": "13970d36-6743-450f-8f3d-d0aa5922ca6e",
   "metadata": {},
   "outputs": [],
   "source": [
    "import pandas as pd\n",
    "from sklearn.preprocessing import StandardScaler\n"
   ]
  },
  {
   "cell_type": "code",
   "execution_count": 3,
   "id": "a40fcd0d-6714-4a44-98f8-4353b24f9e49",
   "metadata": {},
   "outputs": [],
   "source": [
    "df = pd.read_csv(\"C:/Users/Amulya/OneDrive/Documents/Desktop/Assginment/Data/creditcard.csv\")\n"
   ]
  },
  {
   "cell_type": "code",
   "execution_count": 4,
   "id": "64d62354-9d56-484a-9130-8dbc7161b01e",
   "metadata": {},
   "outputs": [
    {
     "name": "stdout",
     "output_type": "stream",
     "text": [
      "<class 'pandas.core.frame.DataFrame'>\n",
      "RangeIndex: 284807 entries, 0 to 284806\n",
      "Data columns (total 31 columns):\n",
      " #   Column  Non-Null Count   Dtype  \n",
      "---  ------  --------------   -----  \n",
      " 0   Time    284807 non-null  float64\n",
      " 1   V1      284807 non-null  float64\n",
      " 2   V2      284807 non-null  float64\n",
      " 3   V3      284807 non-null  float64\n",
      " 4   V4      284807 non-null  float64\n",
      " 5   V5      284807 non-null  float64\n",
      " 6   V6      284807 non-null  float64\n",
      " 7   V7      284807 non-null  float64\n",
      " 8   V8      284807 non-null  float64\n",
      " 9   V9      284807 non-null  float64\n",
      " 10  V10     284807 non-null  float64\n",
      " 11  V11     284807 non-null  float64\n",
      " 12  V12     284807 non-null  float64\n",
      " 13  V13     284807 non-null  float64\n",
      " 14  V14     284807 non-null  float64\n",
      " 15  V15     284807 non-null  float64\n",
      " 16  V16     284807 non-null  float64\n",
      " 17  V17     284807 non-null  float64\n",
      " 18  V18     284807 non-null  float64\n",
      " 19  V19     284807 non-null  float64\n",
      " 20  V20     284807 non-null  float64\n",
      " 21  V21     284807 non-null  float64\n",
      " 22  V22     284807 non-null  float64\n",
      " 23  V23     284807 non-null  float64\n",
      " 24  V24     284807 non-null  float64\n",
      " 25  V25     284807 non-null  float64\n",
      " 26  V26     284807 non-null  float64\n",
      " 27  V27     284807 non-null  float64\n",
      " 28  V28     284807 non-null  float64\n",
      " 29  Amount  284807 non-null  float64\n",
      " 30  Class   284807 non-null  int64  \n",
      "dtypes: float64(30), int64(1)\n",
      "memory usage: 67.4 MB\n"
     ]
    }
   ],
   "source": [
    "df.info()"
   ]
  },
  {
   "cell_type": "code",
   "execution_count": 7,
   "id": "afa687f0-2556-421b-8563-16e74ca31a9c",
   "metadata": {},
   "outputs": [
    {
     "name": "stdout",
     "output_type": "stream",
     "text": [
      "0          0.0\n",
      "1          0.0\n",
      "2          0.0\n",
      "3          0.0\n",
      "4          0.0\n",
      "          ... \n",
      "284802    23.0\n",
      "284803    23.0\n",
      "284804    23.0\n",
      "284805    23.0\n",
      "284806    23.0\n",
      "Name: Transaction_hour, Length: 284807, dtype: float64\n"
     ]
    }
   ],
   "source": [
    "df[\"Transaction_hour\"] = (df[\"Time\"] // 3600) % 24\n",
    "print(df[\"Transaction_hour\"])"
   ]
  },
  {
   "cell_type": "code",
   "execution_count": 8,
   "id": "96f89879-6d86-4866-b75d-e75bd60ab3b2",
   "metadata": {},
   "outputs": [
    {
     "name": "stdout",
     "output_type": "stream",
     "text": [
      "0         0.244964\n",
      "1        -0.342475\n",
      "2         1.160686\n",
      "3         0.140534\n",
      "4        -0.073403\n",
      "            ...   \n",
      "284802   -0.350151\n",
      "284803   -0.254117\n",
      "284804   -0.081839\n",
      "284805   -0.313249\n",
      "284806    0.514355\n",
      "Name: Amount_scaled, Length: 284807, dtype: float64\n"
     ]
    }
   ],
   "source": [
    "scaler = StandardScaler()\n",
    "df[\"Amount_scaled\"] = scaler.fit_transform(df[[\"Amount\"]])\n",
    "print(df[\"Amount_scaled\"])"
   ]
  },
  {
   "cell_type": "code",
   "execution_count": 9,
   "id": "40651491-bf74-4644-8b34-056f516e0cb5",
   "metadata": {},
   "outputs": [
    {
     "name": "stdout",
     "output_type": "stream",
     "text": [
      "0          7695\n",
      "1          7695\n",
      "2          7695\n",
      "3          7695\n",
      "4          7695\n",
      "          ...  \n",
      "284802    10938\n",
      "284803    10938\n",
      "284804    10938\n",
      "284805    10938\n",
      "284806    10938\n",
      "Name: Daily_Transaction_Count, Length: 284807, dtype: int64\n"
     ]
    }
   ],
   "source": [
    "df[\"Daily_Transaction_Count\"] = df.groupby(\"Transaction_hour\")[\"Amount\"].transform(\"count\")\n",
    "print(df[\"Daily_Transaction_Count\"])"
   ]
  },
  {
   "cell_type": "code",
   "execution_count": null,
   "id": "e8b081c1-75b0-4515-a7ff-1456b61c689f",
   "metadata": {},
   "outputs": [],
   "source": []
  }
 ],
 "metadata": {
  "kernelspec": {
   "display_name": "Python 3 (ipykernel)",
   "language": "python",
   "name": "python3"
  },
  "language_info": {
   "codemirror_mode": {
    "name": "ipython",
    "version": 3
   },
   "file_extension": ".py",
   "mimetype": "text/x-python",
   "name": "python",
   "nbconvert_exporter": "python",
   "pygments_lexer": "ipython3",
   "version": "3.11.7"
  }
 },
 "nbformat": 4,
 "nbformat_minor": 5
}
