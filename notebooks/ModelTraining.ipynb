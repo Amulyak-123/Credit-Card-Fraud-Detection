{
 "cells": [
  {
   "cell_type": "code",
   "execution_count": 2,
   "id": "db8945a2-1b27-4512-9151-4a283fe5d3bb",
   "metadata": {},
   "outputs": [
    {
     "name": "stdout",
     "output_type": "stream",
     "text": [
      "\n",
      "📊 Classification Report:\n",
      "               precision    recall  f1-score   support\n",
      "\n",
      "           0       1.00      1.00      1.00     19968\n",
      "           1       0.90      0.81      0.85        32\n",
      "\n",
      "    accuracy                           1.00     20000\n",
      "   macro avg       0.95      0.91      0.93     20000\n",
      "weighted avg       1.00      1.00      1.00     20000\n",
      "\n",
      "🎯 Optimized ROC-AUC Score: 0.999442858573718\n",
      "✅ Model saved in `models/fraud_detection.pkl`!\n"
     ]
    }
   ],
   "source": [
    "import pandas as pd\n",
    "import joblib\n",
    "import os\n",
    "from imblearn.combine import SMOTETomek\n",
    "from sklearn.model_selection import train_test_split\n",
    "from xgboost import XGBClassifier\n",
    "from sklearn.metrics import classification_report, roc_auc_score, precision_recall_curve\n",
    "import numpy as np\n",
    "\n",
    "# ✅ Load Processed Data\n",
    "df = pd.read_csv(\"C:/Users/Amulya/OneDrive/Documents/Desktop/Assignment1/Data/processed_data.csv\")\n",
    "\n",
    "# ✅ Select Features\n",
    "features = [\"Amount_Scaled\", \"Transaction_Hour\", \"Transaction_Day\"] + [f\"V{i}\" for i in range(1, 29)]\n",
    "X = df[features]\n",
    "y = df[\"Class\"]\n",
    "\n",
    "# ✅ Train on a Smaller Dataset (100,000 rows for speed)\n",
    "df_sample = df.sample(n=100000, random_state=42)  \n",
    "X = df_sample[features]\n",
    "y = df_sample[\"Class\"]\n",
    "\n",
    "# ✅ Train-Test Split\n",
    "X_train, X_test, y_train, y_test = train_test_split(X, y, test_size=0.2, stratify=y, random_state=42)\n",
    "\n",
    "# ✅ Handle Class Imbalance Using SMOTETomek (Faster)\n",
    "smote_tomek = SMOTETomek(sampling_strategy=0.2, random_state=42)  # 20% fraud cases for speed\n",
    "X_train_resampled, y_train_resampled = smote_tomek.fit_resample(X_train, y_train)\n",
    "\n",
    "# ✅ Train XGBoost Model (Faster Settings)\n",
    "model = XGBClassifier(\n",
    "    n_estimators=150,  # Reduce from 300 to 150\n",
    "    max_depth=6,  # Reduce from 10 to 6\n",
    "    learning_rate=0.05,\n",
    "    scale_pos_weight=y_train_resampled.value_counts()[0] / y_train_resampled.value_counts()[1],  # Balance fraud\n",
    "    random_state=42\n",
    ")\n",
    "model.fit(X_train_resampled, y_train_resampled)\n",
    "\n",
    "# ✅ Find Best Fraud Detection Threshold\n",
    "y_proba = model.predict_proba(X_test)[:, 1]\n",
    "precision, recall, thresholds = precision_recall_curve(y_test, y_proba)\n",
    "best_threshold = thresholds[np.argmax(precision * recall)]  # Find best balance\n",
    "y_pred_adjusted = (y_proba >= best_threshold).astype(int)\n",
    "\n",
    "# ✅ Evaluate Model\n",
    "print(\"\\n📊 Classification Report:\\n\", classification_report(y_test, y_pred_adjusted))\n",
    "print(\"🎯 Optimized ROC-AUC Score:\", roc_auc_score(y_test, y_proba))\n",
    "\n",
    "# ✅ Save Model\n",
    "os.makedirs(\"models\", exist_ok=True)\n",
    "joblib.dump(model, \"models/fraud_detection.pkl\")\n",
    "print(\"✅ Model saved in `models/fraud_detection.pkl`!\")\n"
   ]
  },
  {
   "cell_type": "code",
   "execution_count": null,
   "id": "b85ad24c-e085-4bfd-96f8-6360b3116e19",
   "metadata": {},
   "outputs": [],
   "source": []
  }
 ],
 "metadata": {
  "kernelspec": {
   "display_name": "Python 3 (ipykernel)",
   "language": "python",
   "name": "python3"
  },
  "language_info": {
   "codemirror_mode": {
    "name": "ipython",
    "version": 3
   },
   "file_extension": ".py",
   "mimetype": "text/x-python",
   "name": "python",
   "nbconvert_exporter": "python",
   "pygments_lexer": "ipython3",
   "version": "3.11.7"
  }
 },
 "nbformat": 4,
 "nbformat_minor": 5
}
