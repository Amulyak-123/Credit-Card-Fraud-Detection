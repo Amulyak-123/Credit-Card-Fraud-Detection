{
 "cells": [
  {
   "cell_type": "code",
   "execution_count": 1,
   "id": "5250e6c7-dd22-450f-bf11-65bce64ad15f",
   "metadata": {},
   "outputs": [
    {
     "name": "stdout",
     "output_type": "stream",
     "text": [
      "✅ Fraud vs Non-Fraud Class Distribution:\n",
      " 0    284315\n",
      "1       492\n",
      "Name: Class, dtype: int64\n"
     ]
    }
   ],
   "source": [
    "import pandas as pd\n",
    "\n",
    "# ✅ Load Data\n",
    "df = pd.read_csv(\"data/processed_data.csv\")\n",
    "\n",
    "# ✅ Count Fraud vs Non-Fraud Transactions\n",
    "class_counts = df[\"Class\"].value_counts()\n",
    "print(\"✅ Fraud vs Non-Fraud Class Distribution:\\n\", class_counts)\n"
   ]
  },
  {
   "cell_type": "code",
   "execution_count": 2,
   "id": "5ea643bf-0e50-4956-b560-2435e29521fa",
   "metadata": {},
   "outputs": [
    {
     "name": "stdout",
     "output_type": "stream",
     "text": [
      "🚨 Found 492 fraud transactions!\n",
      "\n",
      "        Time        V1        V2        V3        V4        V5        V6  \\\n",
      "541    406.0 -2.312227  1.951992 -1.609851  3.997906 -0.522188 -1.426545   \n",
      "623    472.0 -3.043541 -3.157307  1.088463  2.288644  1.359805 -1.064823   \n",
      "4920  4462.0 -2.303350  1.759247 -0.359745  2.330243 -0.821628 -0.075788   \n",
      "6108  6986.0 -4.397974  1.358367 -2.592844  2.679787 -1.128131 -1.706536   \n",
      "6329  7519.0  1.234235  3.019740 -4.304597  4.732795  3.624201 -1.357746   \n",
      "\n",
      "            V7        V8        V9  ...       V25       V26       V27  \\\n",
      "541  -2.537387  1.391657 -2.770089  ...  0.044519  0.177840  0.261145   \n",
      "623   0.325574 -0.067794 -0.270953  ...  0.279798 -0.145362 -0.252773   \n",
      "4920  0.562320 -0.399147 -0.238253  ... -0.156114 -0.542628  0.039566   \n",
      "6108 -3.496197 -0.248778 -0.247768  ...  0.252405 -0.657488 -0.827136   \n",
      "6329  1.713445 -0.496358 -1.282858  ...  1.488901  0.566797 -0.010016   \n",
      "\n",
      "           V28  Class  Transaction_hour  Transaction_Day  \\\n",
      "541  -0.143276      1               0.0              0.0   \n",
      "623   0.035764      1               0.0              0.0   \n",
      "4920 -0.153029      1               1.0              0.0   \n",
      "6108  0.849573      1               1.0              0.0   \n",
      "6329  0.146793      1               2.0              0.0   \n",
      "\n",
      "      Rolling_Median_Amount  Spending_Spike  Amount_scaled  \n",
      "541                    1.98               0      -0.353229  \n",
      "623                   20.00               1       1.761758  \n",
      "4920                  51.68               1       0.606031  \n",
      "6108                  37.16               0      -0.117342  \n",
      "6329                   7.99               0      -0.349231  \n",
      "\n",
      "[5 rows x 35 columns]\n"
     ]
    }
   ],
   "source": [
    "# ✅ Show Only Fraud Cases\n",
    "fraud_cases = df[df[\"Class\"] == 1]\n",
    "print(f\"🚨 Found {len(fraud_cases)} fraud transactions!\\n\")\n",
    "print(fraud_cases.head())  # Show first 5 fraud cases\n"
   ]
  },
  {
   "cell_type": "code",
   "execution_count": null,
   "id": "f664608a-9a16-4f96-a7cb-9c5fd01533f2",
   "metadata": {},
   "outputs": [],
   "source": []
  },
  {
   "cell_type": "code",
   "execution_count": 10,
   "id": "1b20096d-a9e0-41cc-b62b-3f7fb398514f",
   "metadata": {},
   "outputs": [
    {
     "name": "stdout",
     "output_type": "stream",
     "text": [
      "✅ Model Loaded Successfully!\n",
      "✅ Data Sample:\n",
      "          V1        V2        V3        V4        V5        V6        V7  \\\n",
      "0 -1.359807 -0.072781  2.536347  1.378155 -0.338321  0.462388  0.239599   \n",
      "1  1.191857  0.266151  0.166480  0.448154  0.060018 -0.082361 -0.078803   \n",
      "2 -1.358354 -1.340163  1.773209  0.379780 -0.503198  1.800499  0.791461   \n",
      "3 -0.966272 -0.185226  1.792993 -0.863291 -0.010309  1.247203  0.237609   \n",
      "4 -1.158233  0.877737  1.548718  0.403034 -0.407193  0.095921  0.592941   \n",
      "\n",
      "         V8        V9       V10  ...       V27       V28  Class  \\\n",
      "0  0.098698  0.363787  0.090794  ...  0.133558 -0.021053      0   \n",
      "1  0.085102 -0.255425 -0.166974  ... -0.008983  0.014724      0   \n",
      "2  0.247676 -1.514654  0.207643  ... -0.055353 -0.059752      0   \n",
      "3  0.377436 -1.387024 -0.054952  ...  0.062723  0.061458      0   \n",
      "4 -0.270533  0.817739  0.753074  ...  0.219422  0.215153      0   \n",
      "\n",
      "   Transaction_Hour  Transaction_Day  Time_Since_Last_Transaction  Peak_Hour  \\\n",
      "0               0.0              0.0                          0.0          0   \n",
      "1               0.0              0.0                          0.0          0   \n",
      "2               0.0              0.0                          1.0          0   \n",
      "3               0.0              0.0                          0.0          0   \n",
      "4               0.0              0.0                          1.0          0   \n",
      "\n",
      "   Rolling_Median_Amount  Spending_Spike  Amount_Scaled  \n",
      "0                149.620               0       0.244964  \n",
      "1                 76.155               0      -0.342475  \n",
      "2                149.620               0       1.160686  \n",
      "3                136.560               0       0.140534  \n",
      "4                123.500               0      -0.073403  \n",
      "\n",
      "[5 rows x 36 columns]\n"
     ]
    }
   ],
   "source": [
    "import pandas as pd\n",
    "import joblib\n",
    "from sklearn.metrics import classification_report, roc_auc_score\n",
    "\n",
    "# ✅ Load Trained Model\n",
    "model = joblib.load(\"models/fraud_detection.pkl\")\n",
    "print(\"✅ Model Loaded Successfully!\")\n",
    "\n",
    "# ✅ Load Processed Data\n",
    "df = pd.read_csv(\"C:/Users/Amulya/OneDrive/Documents/Desktop/Assignment1/Data/processed_data.csv\")\n",
    "\n",
    "# ✅ Select Features (Same as Model Training)\n",
    "features = [\"Amount_Scaled\", \"Transaction_Hour\", \"Transaction_Day\"] + [f\"V{i}\" for i in range(1, 29)]\n",
    "X = df[features]\n",
    "y = df[\"Class\"]\n",
    "\n",
    "# ✅ Print Data Sample\n",
    "print(\"✅ Data Sample:\\n\", df.head())\n"
   ]
  },
  {
   "cell_type": "code",
   "execution_count": 11,
   "id": "f207e963-cfa0-47e3-8ca9-bd4c24773228",
   "metadata": {},
   "outputs": [
    {
     "name": "stdout",
     "output_type": "stream",
     "text": [
      "\n",
      "📊 Classification Report:\n",
      "               precision    recall  f1-score   support\n",
      "\n",
      "           0       1.00      1.00      1.00    284315\n",
      "           1       0.60      0.86      0.71       492\n",
      "\n",
      "    accuracy                           1.00    284807\n",
      "   macro avg       0.80      0.93      0.86    284807\n",
      "weighted avg       1.00      1.00      1.00    284807\n",
      "\n",
      "🎯 ROC-AUC Score: 0.9837865192748968\n"
     ]
    }
   ],
   "source": [
    "# ✅ Make Predictions\n",
    "y_proba = model.predict_proba(X)[:, 1]  # Get fraud probability\n",
    "y_pred = (y_proba >= 0.5).astype(int)  # Convert probability to 0 or 1\n",
    "\n",
    "# ✅ Evaluate Model\n",
    "print(\"\\n📊 Classification Report:\\n\", classification_report(y, y_pred))\n",
    "print(\"🎯 ROC-AUC Score:\", roc_auc_score(y, y_proba))\n"
   ]
  },
  {
   "cell_type": "code",
   "execution_count": 12,
   "id": "3ef2726e-ee17-4d3c-a7e8-aa2647e6b3b4",
   "metadata": {},
   "outputs": [
    {
     "name": "stdout",
     "output_type": "stream",
     "text": [
      "🚨 Fraud Prediction (Expected: True): True\n"
     ]
    }
   ],
   "source": [
    "fraud_case = df[df[\"Class\"] == 1].sample(1, random_state=42)\n",
    "fraud_prediction = model.predict(fraud_case[features])[0]\n",
    "\n",
    "print(f\"🚨 Fraud Prediction (Expected: True): {bool(fraud_prediction)}\")\n"
   ]
  },
  {
   "cell_type": "code",
   "execution_count": 13,
   "id": "3370046a-e4db-43a4-8924-a5963f664902",
   "metadata": {},
   "outputs": [
    {
     "name": "stdout",
     "output_type": "stream",
     "text": [
      "✅ Non-Fraud Prediction (Expected: False): False\n"
     ]
    }
   ],
   "source": [
    "non_fraud_case = df[df[\"Class\"] == 0].sample(1, random_state=42)\n",
    "non_fraud_prediction = model.predict(non_fraud_case[features])[0]\n",
    "\n",
    "print(f\"✅ Non-Fraud Prediction (Expected: False): {bool(non_fraud_prediction)}\")\n"
   ]
  },
  {
   "cell_type": "code",
   "execution_count": 14,
   "id": "3cd43903-34f9-4435-8d37-eca21513d02f",
   "metadata": {},
   "outputs": [
    {
     "name": "stdout",
     "output_type": "stream",
     "text": [
      "\n",
      "📊 Classification Report (Optimized Threshold):\n",
      "               precision    recall  f1-score   support\n",
      "\n",
      "           0       1.00      1.00      1.00    284315\n",
      "           1       0.91      0.82      0.87       492\n",
      "\n",
      "    accuracy                           1.00    284807\n",
      "   macro avg       0.96      0.91      0.93    284807\n",
      "weighted avg       1.00      1.00      1.00    284807\n",
      "\n",
      "🎯 Optimized ROC-AUC Score: 0.9837865192748968\n"
     ]
    }
   ],
   "source": [
    "from sklearn.metrics import precision_recall_curve\n",
    "import numpy as np\n",
    "\n",
    "# ✅ Compute Precision-Recall Curve\n",
    "precision, recall, thresholds = precision_recall_curve(y, y_proba)\n",
    "\n",
    "# ✅ Find the Best Threshold\n",
    "best_threshold = thresholds[np.argmax(precision * recall)]  # Maximizes precision & recall balance\n",
    "y_pred_adjusted = (y_proba >= best_threshold).astype(int)\n",
    "\n",
    "# ✅ Evaluate Model with Adjusted Threshold\n",
    "print(\"\\n📊 Classification Report (Optimized Threshold):\\n\", classification_report(y, y_pred_adjusted))\n",
    "print(\"🎯 Optimized ROC-AUC Score:\", roc_auc_score(y, y_proba))\n"
   ]
  },
  {
   "cell_type": "code",
   "execution_count": null,
   "id": "f93ca98f-6c8a-47bd-9d9d-05359cbbbaf5",
   "metadata": {},
   "outputs": [],
   "source": []
  }
 ],
 "metadata": {
  "kernelspec": {
   "display_name": "Python 3 (ipykernel)",
   "language": "python",
   "name": "python3"
  },
  "language_info": {
   "codemirror_mode": {
    "name": "ipython",
    "version": 3
   },
   "file_extension": ".py",
   "mimetype": "text/x-python",
   "name": "python",
   "nbconvert_exporter": "python",
   "pygments_lexer": "ipython3",
   "version": "3.11.7"
  }
 },
 "nbformat": 4,
 "nbformat_minor": 5
}
